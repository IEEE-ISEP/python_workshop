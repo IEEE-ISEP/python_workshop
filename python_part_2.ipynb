{
 "metadata": {
  "language_info": {
   "codemirror_mode": {
    "name": "ipython",
    "version": 3
   },
   "file_extension": ".py",
   "mimetype": "text/x-python",
   "name": "python",
   "nbconvert_exporter": "python",
   "pygments_lexer": "ipython3",
   "version": "3.6.9-final"
  },
  "orig_nbformat": 2,
  "kernelspec": {
   "name": "python36964bite12a6befc4434538b8c395fb8110f647",
   "display_name": "Python 3.6.9 64-bit",
   "language": "python"
  }
 },
 "nbformat": 4,
 "nbformat_minor": 2,
 "cells": [
  {
   "source": [
    "Hello! Welcome to the second part of our Python Workshop!\n",
    "In this workshop we will cover the basics of Python applied to **Data Science and Data representation**, since N-dimensional arrays to plots, you will learn the basic knowledge allowing to create you own data representation application"
   ],
   "cell_type": "markdown",
   "metadata": {}
  },
  {
   "source": [
    "**Python Arrays**"
   ],
   "cell_type": "markdown",
   "metadata": {}
  },
  {
   "cell_type": "code",
   "execution_count": 5,
   "metadata": {},
   "outputs": [
    {
     "output_type": "stream",
     "name": "stdout",
     "text": [
      "This is the array: \n [[1. 1. 1. 1. 1.]\n [1. 1. 1. 1. 1.]\n [1. 1. 1. 1. 1.]\n [1. 1. 1. 1. 1.]\n [1. 1. 1. 1. 1.]]\n"
     ]
    }
   ],
   "source": [
    "#Arrays in Python are created with the help of a very popular Python library, called NumPy\n",
    "\n",
    "#Import NumPy library\n",
    "import numpy as np\n",
    "\n",
    "def create_a_simple_2d_array():\n",
    "    #Creates a 2D array initialized with 1s\n",
    "    my_array = np.ones((5,5), dtype=np.float)\n",
    "    print(\"This is the array: \\n\", my_array)\n",
    "\n",
    "if __name__ == \"__main__\":\n",
    "    create_a_simple_2d_array()"
   ]
  },
  {
   "source": [
    "#How to obtain the number of rows and columns? And why we have to do that?\n",
    "#Imagine a scenario, where you import a 2D array from a database, but you don't know its length. In those cases, it becomes important to know the lenght of the array, or its dimension\n",
    "\n",
    "import numpy as np\n",
    "\n",
    "def know_array_length(rows,columns):\n",
    "    array = np.ones((rows,columns), dtype=np.int32)\n",
    "\n",
    "    #Get number of rows and columns\n",
    "    num_rows = array.shape[0]\n",
    "    num_columns = array.shape[1]\n",
    "\n",
    "    print(\"Number of rows %d:\\n Number of columns %d\" % (num_rows,num_columns))\n",
    "\n",
    "if __name__ == \"__main__\":\n",
    "    rows = int(input(\"Number of rows: \"))\n",
    "    columns = int(input(\"Number of columns: \"))\n",
    "\n",
    "    if(rows == \"\" or columns == \"\"):\n",
    "        exit(-1)\n",
    "    else:\n",
    "        know_array_length(rows,columns)"
   ],
   "cell_type": "code",
   "metadata": {},
   "execution_count": 6,
   "outputs": [
    {
     "output_type": "stream",
     "name": "stdout",
     "text": [
      "Number of rows 5:\n Number of columns 5\n"
     ]
    }
   ]
  },
  {
   "cell_type": "code",
   "execution_count": 10,
   "metadata": {},
   "outputs": [
    {
     "output_type": "stream",
     "name": "stdout",
     "text": [
      "Final matrix:\n [[28  8 21 21 29 40 23 11 35 13]\n [26  6 19 13  1 31 10  5 37 40]\n [ 4 39 20  7  5 16 10  9 29  8]\n [39 39 38 30 39 40  7  4 40 35]\n [16 33 28  8  4 16 20 20 17 31]\n [20 18 33 39 25  2  5 11 14 34]\n [24 15 34  6  8 25 33 26 20 40]\n [ 3  6 27 19 22 19 28 17 22 40]\n [23 35  4 25  1 39 38 40 20 38]\n [23 36 14 14  6 32 11  3 13  8]]\n"
     ]
    }
   ],
   "source": [
    "#Now that we know how to create the arrays, how to insert data into it?\n",
    "#First, we will create a list with some random column values\n",
    "\n",
    "import numpy as np\n",
    "import random\n",
    "\n",
    "def random_column_values():\n",
    "    matrix = np.ones((10,10), dtype=np.int32)\n",
    "\n",
    "    rows = matrix.shape[0]\n",
    "    columns = matrix.shape[1]\n",
    "\n",
    "    #Loop through every row and column\n",
    "    for i in range(0,rows):\n",
    "        for j in range(0,columns):\n",
    "            matrix[i,j] = random.randint(0,40)\n",
    "    print(\"Final matrix:\\n\", matrix)\n",
    "\n",
    "if __name__ == \"__main__\":\n",
    "    random_column_values()"
   ]
  },
  {
   "cell_type": "code",
   "execution_count": 2,
   "metadata": {},
   "outputs": [
    {
     "output_type": "stream",
     "name": "stdout",
     "text": [
      "[[10 20 15 19]\n [15 19 14 13]\n [20 25 32 34]\n [21 28 26 34]]\n"
     ]
    }
   ],
   "source": [
    "#Create array with provided lists\n",
    "\n",
    "import numpy as np\n",
    "\n",
    "square = np.array([\n",
    "    [10,20,15,19],\n",
    "    [15,19,14,13],\n",
    "    [20,25,32,34],\n",
    "    [21,28,26,34]\n",
    "])\n",
    "\n",
    "print(square)"
   ]
  },
  {
   "source": [
    "**Sorting Data, Transposing and Concatenating**"
   ],
   "cell_type": "markdown",
   "metadata": {}
  },
  {
   "cell_type": "code",
   "execution_count": 3,
   "metadata": {},
   "outputs": [
    {
     "output_type": "execute_result",
     "data": {
      "text/plain": [
       "array([[1, 4, 7],\n",
       "       [5, 6, 8],\n",
       "       [1, 2, 3]])"
      ]
     },
     "metadata": {},
     "execution_count": 3
    }
   ],
   "source": [
    "import numpy as np\n",
    "\n",
    "data = np.array([\n",
    "    [7, 1, 4],\n",
    "    [8, 6, 5],\n",
    "    [1, 2, 3]\n",
    "])\n",
    "\n",
    "#Sorting data\n",
    "np.sort(data)"
   ]
  },
  {
   "cell_type": "code",
   "execution_count": 4,
   "metadata": {},
   "outputs": [
    {
     "output_type": "execute_result",
     "data": {
      "text/plain": [
       "array([1, 1, 2, 3, 4, 5, 6, 7, 8])"
      ]
     },
     "metadata": {},
     "execution_count": 4
    }
   ],
   "source": [
    "import numpy as np\n",
    "\n",
    "data = np.array([\n",
    "    [7, 1, 4],\n",
    "    [8, 6, 5],\n",
    "    [1, 2, 3]\n",
    "])\n",
    "\n",
    "#Sorting data as a single axis\n",
    "np.sort(data, axis=None)"
   ]
  },
  {
   "cell_type": "code",
   "execution_count": 8,
   "metadata": {},
   "outputs": [
    {
     "output_type": "execute_result",
     "data": {
      "text/plain": [
       "array([[5, 6],\n",
       "       [7, 8],\n",
       "       [1, 2],\n",
       "       [3, 4]])"
      ]
     },
     "metadata": {},
     "execution_count": 8
    }
   ],
   "source": [
    "#Concatenate data\n",
    "\n",
    "a = np.array([\n",
    "    [1,2],\n",
    "    [3,4]\n",
    "])\n",
    "\n",
    "b = np.array([\n",
    "    [5,6],\n",
    "    [7,8]\n",
    "])\n",
    "\n",
    "np.concatenate((a,b))\n",
    "\n",
    "#Concatenate in reverse order\n",
    "np.vstack((b,a))"
   ]
  },
  {
   "source": [
    "**Structured Arrays**\n",
    "\n",
    "Allows us to agregate data of different types into a single numpy array "
   ],
   "cell_type": "markdown",
   "metadata": {}
  },
  {
   "cell_type": "code",
   "execution_count": 10,
   "metadata": {},
   "outputs": [
    {
     "output_type": "execute_result",
     "data": {
      "text/plain": [
       "array(['rui', 'leonor'], dtype='<U10')"
      ]
     },
     "metadata": {},
     "execution_count": 10
    }
   ],
   "source": [
    "data = np.array([\n",
    "    (\"joao\", 32, 6),\n",
    "    (\"maria\", 15, 20),\n",
    "    (\"rui\", 80, 100),\n",
    "    (\"leonor\", 38, 9001),\n",
    "    ], dtype=[(\"name\", str, 10), (\"age\", int), (\"amount\", int)])\n",
    "\n",
    "\n",
    "#Select one row from the array\n",
    "data[2]\n",
    "\n",
    "#Select all the names with amount bigger than 50\n",
    "data[data[\"amount\"] > 50][\"name\"]"
   ]
  },
  {
   "source": [
    "**SQL Query to NumPy array**"
   ],
   "cell_type": "markdown",
   "metadata": {}
  },
  {
   "cell_type": "code",
   "execution_count": null,
   "metadata": {},
   "outputs": [],
   "source": [
    "SELECT name FROM data\n",
    "WHERE amount > 50; "
   ]
  },
  {
   "source": [
    "**DATABASE MANIPULATION**"
   ],
   "cell_type": "markdown",
   "metadata": {}
  },
  {
   "source": [
    "Python can be used to retrieve and add information into a database, using specific modules. In this example, we will take a look into the **psycopg2** Python module, that makes the connection between a PostgreSQL database and the script"
   ],
   "cell_type": "markdown",
   "metadata": {}
  },
  {
   "cell_type": "code",
   "execution_count": null,
   "metadata": {},
   "outputs": [],
   "source": [
    "import psycopg2 as db\n",
    "import numpy as np\n",
    "import random\n",
    "\n",
    "debug = False\n",
    "\n",
    "class databaseConnection():\n",
    "    def __init__(self,databaseobj):\n",
    "        self.hostname = \"test\"\n",
    "        self.database = \"postgres\"\n",
    "        self.port = \"5432\"\n",
    "        self.user = \"postgres\"\n",
    "        self.password = \"postgres\"\n",
    "    \n",
    "    def connection(self):\n",
    "        \"\"\"\n",
    "        Establishes the connection to the database\n",
    "        \"\"\"\n",
    "\n",
    "        try:\n",
    "            connection = db.connect(\n",
    "                \n",
    "                user=self.user,\n",
    "                password=self.password,\n",
    "                host=self.host,\n",
    "                port=self.port,\n",
    "                database=self.database)\n",
    "            \n",
    "            #Commits data after the execution\n",
    "            connection.autocommit = True\n",
    "\n",
    "\n",
    "            #Create cursor to execute SQL queries\n",
    "            cursor = connection.cursor()\n",
    "\n",
    "            #Select all data from a table\n",
    "            cursor.execute('''SELECT * FROM students''')\n",
    "\n",
    "            connection.commit()\n",
    "            print(\"Data inserted\")\n",
    "\n",
    "        except (Exception, psycopg2.Error) as error:\n",
    "            print(\"Error while connecting to PostgreSQL\", error)\n",
    "            connection.close()\n",
    "        \n",
    "        finally:\n",
    "            # closing database connection\n",
    "            if(connection):\n",
    "                cursor.close()\n",
    "                connection.close()\n",
    "                print(\"PostgreSQL connection is closed\")\n",
    "\n",
    "if __name__ == \"__main__\":\n",
    "    databaseobj = databaseConnection()\n",
    "    databaseobj.connection()"
   ]
  },
  {
   "cell_type": "code",
   "execution_count": null,
   "metadata": {},
   "outputs": [],
   "source": []
  }
 ]
}