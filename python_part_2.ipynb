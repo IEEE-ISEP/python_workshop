{
 "metadata": {
  "language_info": {
   "codemirror_mode": {
    "name": "ipython",
    "version": 3
   },
   "file_extension": ".py",
   "mimetype": "text/x-python",
   "name": "python",
   "nbconvert_exporter": "python",
   "pygments_lexer": "ipython3",
   "version": "3.6.9-final"
  },
  "orig_nbformat": 2,
  "kernelspec": {
   "name": "python36964bite12a6befc4434538b8c395fb8110f647",
   "display_name": "Python 3.6.9 64-bit",
   "language": "python"
  }
 },
 "nbformat": 4,
 "nbformat_minor": 2,
 "cells": [
  {
   "source": [
    "Hello! Welcome to the second part of our Python Workshop!\n",
    "In this workshop we will cover the basics of Python applied to **Data Science and Data representation**, since N-dimensional arrays to plots, you will learn the basic knowledge allowing to create you own data representation application"
   ],
   "cell_type": "markdown",
   "metadata": {}
  },
  {
   "source": [
    "**Python Arrays**"
   ],
   "cell_type": "markdown",
   "metadata": {}
  },
  {
   "cell_type": "code",
   "execution_count": 5,
   "metadata": {},
   "outputs": [
    {
     "output_type": "stream",
     "name": "stdout",
     "text": [
      "This is the array: \n [[1. 1. 1. 1. 1.]\n [1. 1. 1. 1. 1.]\n [1. 1. 1. 1. 1.]\n [1. 1. 1. 1. 1.]\n [1. 1. 1. 1. 1.]]\n"
     ]
    }
   ],
   "source": [
    "#Arrays in Python are created with the help of a very popular Python library, called NumPy\n",
    "\n",
    "#Import NumPy library\n",
    "import numpy as np\n",
    "\n",
    "def create_a_simple_2d_array():\n",
    "    #Creates a 2D array initialized with 1s\n",
    "    my_array = np.ones((5,5), dtype=np.float)\n",
    "    print(\"This is the array: \\n\", my_array)\n",
    "\n",
    "if __name__ == \"__main__\":\n",
    "    create_a_simple_2d_array()"
   ]
  },
  {
   "source": [
    "#How to obtain the number of rows and columns? And why we have to do that?\n",
    "#Imagine a scenario, where you import a 2D array from a database, but you don't know its length. In those cases, it becomes important to know the lenght of the array, or its dimension\n",
    "\n",
    "import numpy as np\n",
    "\n",
    "def know_array_length(rows,columns):\n",
    "    array = np.ones((rows,columns), dtype=np.int32)\n",
    "\n",
    "    #Get number of rows and columns\n",
    "    num_rows = array.shape[0]\n",
    "    num_columns = array.shape[1]\n",
    "\n",
    "    print(\"Number of rows %d:\\n Number of columns %d\" % (num_rows,num_columns))\n",
    "\n",
    "if __name__ == \"__main__\":\n",
    "    rows = int(input(\"Number of rows: \"))\n",
    "    columns = int(input(\"Number of columns: \"))\n",
    "\n",
    "    if(rows == \"\" or columns == \"\"):\n",
    "        exit(-1)\n",
    "    else:\n",
    "        know_array_length(rows,columns)"
   ],
   "cell_type": "code",
   "metadata": {},
   "execution_count": 6,
   "outputs": [
    {
     "output_type": "stream",
     "name": "stdout",
     "text": [
      "Number of rows 5:\n Number of columns 5\n"
     ]
    }
   ]
  },
  {
   "cell_type": "code",
   "execution_count": 10,
   "metadata": {},
   "outputs": [
    {
     "output_type": "stream",
     "name": "stdout",
     "text": [
      "Final matrix:\n [[28  8 21 21 29 40 23 11 35 13]\n [26  6 19 13  1 31 10  5 37 40]\n [ 4 39 20  7  5 16 10  9 29  8]\n [39 39 38 30 39 40  7  4 40 35]\n [16 33 28  8  4 16 20 20 17 31]\n [20 18 33 39 25  2  5 11 14 34]\n [24 15 34  6  8 25 33 26 20 40]\n [ 3  6 27 19 22 19 28 17 22 40]\n [23 35  4 25  1 39 38 40 20 38]\n [23 36 14 14  6 32 11  3 13  8]]\n"
     ]
    }
   ],
   "source": [
    "#Now that we know how to create the arrays, how to insert data into it?\n",
    "#First, we will create a list with some random column values\n",
    "\n",
    "import numpy as np\n",
    "import random\n",
    "\n",
    "def random_column_values():\n",
    "    matrix = np.ones((10,10), dtype=np.int32)\n",
    "\n",
    "    rows = matrix.shape[0]\n",
    "    columns = matrix.shape[1]\n",
    "\n",
    "    #Loop through every row and column\n",
    "    for i in range(0,rows):\n",
    "        for j in range(0,columns):\n",
    "            matrix[i,j] = random.randint(0,40)\n",
    "    print(\"Final matrix:\\n\", matrix)\n",
    "\n",
    "if __name__ == \"__main__\":\n",
    "    random_column_values()"
   ]
  },
  {
   "cell_type": "code",
   "execution_count": null,
   "metadata": {},
   "outputs": [],
   "source": []
  }
 ]
}