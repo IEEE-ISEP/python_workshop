{
 "metadata": {
  "language_info": {
   "codemirror_mode": {
    "name": "ipython",
    "version": 3
   },
   "file_extension": ".py",
   "mimetype": "text/x-python",
   "name": "python",
   "nbconvert_exporter": "python",
   "pygments_lexer": "ipython3",
   "version": "3.6.9-final"
  },
  "orig_nbformat": 2,
  "kernelspec": {
   "name": "python36964bitcf45cad75fc14ba1a61db8450a64173c",
   "display_name": "Python 3.6.9 64-bit"
  }
 },
 "nbformat": 4,
 "nbformat_minor": 2,
 "cells": [
  {
   "source": [
    "Olá! Sejam bem vindos ao evento **Python 101: Introduction to programming**, uma parceria do IEEE ISEP Student Branch e do Developer Student Clubs ISEP. Esperemos que com este evento dês os primeiros passos na programação ou que melhores técnicas já aprendidas. Está à vontade para colocar dúvidas! Está atento aos próximos eventos futuros de ambos os núcleos."
   ],
   "cell_type": "markdown",
   "metadata": {}
  },
  {
   "source": [
    "**Variáveis**\n",
    "\n",
    "Tipos de variáveis em Python: **int**, **float**, **list**, **tuple**, **char**, **string**\n",
    "\n",
    "Como definir uma variável?\n",
    "Python é uma linguagem interpretada, isto é, não é diretamente compilada pelo IDE, assim não precisamos de indicar o tipo de variável antes do seu nome, como em C/C++/Java. Logo, basta indicar o seu nome e o seu valor"
   ],
   "cell_type": "markdown",
   "metadata": {}
  },
  {
   "cell_type": "code",
   "execution_count": 5,
   "metadata": {},
   "outputs": [],
   "source": [
    "my_number = 1\n",
    "my_float = 1.20\n",
    "my_char = 'c'\n",
    "my_string = \"Olá\""
   ]
  },
  {
   "source": [
    "**Funções básicas e a primeira função**\n",
    "\n",
    "Em Python, como em outras linguagens de programação, existem inúmeras funções nativas da linguagem. Mas o que é uma função? Uma função é um pedaço de código que apenas é executado quando chamado. Ou seja, quando definimos o seu nome, seguido de \"( )\" e os seus parâmetros, essa função é executada. \n",
    "\n",
    "Mas qual o intuito de usar funções?\n",
    "As funções permitem-nos organizar melhor o nosso código e torná-lo legível para outras pessoas, ao mesmo tempo que nos permite uma maior capacidade de debugging e troubleshooting."
   ],
   "cell_type": "markdown",
   "metadata": {}
  },
  {
   "cell_type": "code",
   "execution_count": 6,
   "metadata": {},
   "outputs": [
    {
     "output_type": "stream",
     "name": "stdout",
     "text": [
      "Este é o meu número:\n 1\n"
     ]
    }
   ],
   "source": [
    "#Definir uma função\n",
    "def my_function():\n",
    "\n",
    "    my_number = 1\n",
    "\n",
    "    #Imprime o valor da variável my_number\n",
    "    print(\"Este é o meu número:\\n\",my_number)\n",
    "\n",
    "if __name__ == \"__main__\":\n",
    "    my_function()"
   ]
  },
  {
   "cell_type": "code",
   "execution_count": 19,
   "metadata": {},
   "outputs": [
    {
     "output_type": "stream",
     "name": "stdout",
     "text": [
      "Este é o resultado:\n 1.0\n"
     ]
    }
   ],
   "source": [
    "#Função calculadora\n",
    "\n",
    "#Importa a biblioteca math para funções matemáticas\n",
    "import math\n",
    "\n",
    "def calculator():\n",
    "    \n",
    "    #Pedir ao utilizador um número\n",
    "    num1 = int(input(\"Introduza o primeiro número por favor:\\n\"))\n",
    "    num2 = int(input(\"Introduza o segundo número por favor:\\n\"))\n",
    "    operation = input(\"Introduza a operação:\\n\")\n",
    "\n",
    "    #Garantir que o utilizador introduz um número\n",
    "    while(math.isnan(num1) or math.isnan(num1)):\n",
    "        print(\"ERROR\")\n",
    "\n",
    "    #Verificar a operação\n",
    "    if(operation == 'x' or operation == '*'):\n",
    "        result = num1*num2\n",
    "    if(operation == '+'):\n",
    "        result = num1 + num2\n",
    "    if(operation == '-'):\n",
    "        result = num1 - num2\n",
    "    if(operation == '/'):\n",
    "        result = num1/num2\n",
    "    \n",
    "    return result#Retornar o resultado\n",
    "\n",
    "if __name__ == \"__main__\":\n",
    "    main_result = calculator()#Chama a função\n",
    "    print(\"Este é o resultado:\\n\",main_result)"
   ]
  },
  {
   "cell_type": "code",
   "execution_count": null,
   "metadata": {},
   "outputs": [],
   "source": []
  }
 ]
}