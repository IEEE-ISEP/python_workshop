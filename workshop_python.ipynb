{
 "metadata": {
  "language_info": {
   "codemirror_mode": {
    "name": "ipython",
    "version": 3
   },
   "file_extension": ".py",
   "mimetype": "text/x-python",
   "name": "python",
   "nbconvert_exporter": "python",
   "pygments_lexer": "ipython3",
   "version": "3.6.9-final"
  },
  "orig_nbformat": 2,
  "kernelspec": {
   "name": "python36964bitcf45cad75fc14ba1a61db8450a64173c",
   "display_name": "Python 3.6.9 64-bit"
  }
 },
 "nbformat": 4,
 "nbformat_minor": 2,
 "cells": [
  {
   "source": [
    "Olá! Sejam bem vindos ao evento **Python 101: Introduction to programming**, uma parceria do IEEE ISEP Student Branch e do Developer Student Clubs ISEP. Esperemos que com este evento dês os primeiros passos na programação ou que melhores técnicas já aprendidas. Está à vontade para colocar dúvidas! Está atento aos próximos eventos futuros de ambos os núcleos.\n",
    "\n",
    "Se estiveres interessado em fazer parte de um destes grupos, entra em contacto:\n",
    "\n",
    "**IEEE: sb.isep@ieee.org**\n",
    "\n",
    "\n",
    "**DSC ISEP:**"
   ],
   "cell_type": "markdown",
   "metadata": {}
  },
  {
   "source": [
    "**Expressions and Variables**\n",
    "\n",
    "Tipos de variáveis em Python: **int**, **float**, **string**, **bool**\n",
    "\n",
    "Como definir uma variável?\n",
    "Python é uma linguagem interpretada, isto é, não é diretamente compilada pelo IDE, assim não precisamos de indicar o tipo de variável antes do seu nome, como em C/C++/Java. Logo, basta indicar o seu nome e o seu valor"
   ],
   "cell_type": "markdown",
   "metadata": {}
  },
  {
   "cell_type": "code",
   "execution_count": 1,
   "metadata": {},
   "outputs": [],
   "source": [
    "my_number = 1 #int\n",
    "my_float = 1.20 #float\n",
    "my_string = \"Olá\" #string\n",
    "my_list = [1,2,3] #list\n",
    "my_bool = True #boolean"
   ]
  },
  {
   "source": [
    "#Vamos testar como usar as expressões em variáveis\n",
    "\n",
    "my_number = 1\n",
    "my_float = 1.2\n",
    "\n",
    "soma = my_number + 1\n",
    "\n",
    "#Vamos imprimir o valor da variável\n",
    "\n",
    "soma"
   ],
   "cell_type": "code",
   "metadata": {},
   "execution_count": 6,
   "outputs": [
    {
     "output_type": "execute_result",
     "data": {
      "text/plain": [
       "2.2"
      ]
     },
     "metadata": {},
     "execution_count": 6
    }
   ]
  },
  {
   "cell_type": "code",
   "execution_count": null,
   "metadata": {},
   "outputs": [],
   "source": [
    "#E se somarmos um float com um int?\n",
    "\n",
    "soma_float = my_number + my_float\n",
    "soma_float\n",
    "\n",
    "#É possível somar números inteiros com decimais"
   ]
  },
  {
   "cell_type": "code",
   "execution_count": 9,
   "metadata": {},
   "outputs": [
    {
     "output_type": "execute_result",
     "data": {
      "text/plain": [
       "45"
      ]
     },
     "metadata": {},
     "execution_count": 9
    }
   ],
   "source": [
    "###########################\n",
    "##DIVISÃO E MULTIPLICAÇÃO\n",
    "###########################\n",
    "\n",
    "#Vamos definir duas variáveis\n",
    "\n",
    "num1 = 9\n",
    "num2 = 5\n",
    "\n",
    "#Divisão\n",
    "\n",
    "div = num1/num2\n",
    "div\n",
    "\n",
    "#Multiplicação\n",
    "\n",
    "mult = num1 * num2\n",
    "#mult #Descomentar para obter o resultado"
   ]
  },
  {
   "source": [
    "####################\n",
    "##DIVISÃO INTEIRA\n",
    "####################\n",
    "\n",
    "num_div_1 = 9\n",
    "num_div_2 = 5\n",
    "\n",
    "#Divisão inteira retorna o resto da divisão inteira\n",
    "\n",
    "res = num_div_1 // num_div_2\n",
    "res"
   ],
   "cell_type": "code",
   "metadata": {},
   "execution_count": 11,
   "outputs": [
    {
     "output_type": "execute_result",
     "data": {
      "text/plain": [
       "1"
      ]
     },
     "metadata": {},
     "execution_count": 11
    }
   ]
  },
  {
   "source": [
    "**Data types**"
   ],
   "cell_type": "markdown",
   "metadata": {}
  },
  {
   "source": [
    "#Mas como saber o tipo de dado de uma variável?\n",
    "\n",
    "test = 3\n",
    "\n",
    "type(test)#Retorna o tipo de variável\n",
    "\n",
    "bool_type = True\n",
    "type(bool_type)"
   ],
   "cell_type": "code",
   "metadata": {},
   "execution_count": 13,
   "outputs": [
    {
     "output_type": "execute_result",
     "data": {
      "text/plain": [
       "bool"
      ]
     },
     "metadata": {},
     "execution_count": 13
    }
   ]
  },
  {
   "source": [
    "**String Operations**\n",
    "\n",
    "Vamos ver como operar com strings, e como manipular o seu conteúdo"
   ],
   "cell_type": "markdown",
   "metadata": {}
  },
  {
   "cell_type": "code",
   "execution_count": 17,
   "metadata": {},
   "outputs": [
    {
     "output_type": "execute_result",
     "data": {
      "text/plain": [
       "'l'"
      ]
     },
     "metadata": {},
     "execution_count": 17
    }
   ],
   "source": [
    "#Definir uma string\n",
    "\n",
    "my_string = \"Hello\"\n",
    "\n",
    "#Como obter apenas determinadas letras da string?\n",
    "\n",
    "my_string[2]#Retorna a 3ª letra\n",
    "\n",
    "my_string[-1]#Retorna a última letra\n",
    "\n",
    "my_string[2:3]#Retorna a letra entre a 3ª e 4ª posição"
   ]
  },
  {
   "cell_type": "code",
   "execution_count": 21,
   "metadata": {},
   "outputs": [
    {
     "output_type": "execute_result",
     "data": {
      "text/plain": [
       "'Hello this is a great workshop'"
      ]
     },
     "metadata": {},
     "execution_count": 21
    }
   ],
   "source": [
    "#Concatenação\n",
    "\n",
    "string_1 = \"Hello\"\n",
    "string_2 = \"this is a great workshop\"\n",
    "\n",
    "final_string = string_1 + \" \" + string_2\n",
    "final_string"
   ]
  },
  {
   "cell_type": "code",
   "execution_count": 30,
   "metadata": {},
   "outputs": [
    {
     "output_type": "execute_result",
     "data": {
      "text/plain": [
       "'This is a awesome workshop'"
      ]
     },
     "metadata": {},
     "execution_count": 30
    }
   ],
   "source": [
    "#Manipulação do conteúdo\n",
    "\n",
    "test_string = \"This is a great workshop\"\n",
    "\n",
    "#test_string.upper()\n",
    "\n",
    "#test_string.lower()\n",
    "\n",
    "#test_string.replace(\"great\",\"awesome\")"
   ]
  },
  {
   "source": [
    "**Data Structures**\n",
    "\n",
    "Vamos explorar como funcionam as estruturas de dados em Python e de que maneira as podemos manipular"
   ],
   "cell_type": "markdown",
   "metadata": {}
  },
  {
   "cell_type": "code",
   "execution_count": 34,
   "metadata": {},
   "outputs": [
    {
     "output_type": "error",
     "ename": "TypeError",
     "evalue": "'tuple' object does not support item assignment",
     "traceback": [
      "\u001b[0;31m---------------------------------------------------------------------------\u001b[0m",
      "\u001b[0;31mTypeError\u001b[0m                                 Traceback (most recent call last)",
      "\u001b[0;32m<ipython-input-34-934ee41f3b5d>\u001b[0m in \u001b[0;36m<module>\u001b[0;34m\u001b[0m\n\u001b[1;32m     14\u001b[0m \u001b[0;31m#Será possível alterar o conteúdo de um tuple?\u001b[0m\u001b[0;34m\u001b[0m\u001b[0;34m\u001b[0m\u001b[0;34m\u001b[0m\u001b[0m\n\u001b[1;32m     15\u001b[0m \u001b[0;34m\u001b[0m\u001b[0m\n\u001b[0;32m---> 16\u001b[0;31m \u001b[0mmy_tuple\u001b[0m\u001b[0;34m[\u001b[0m\u001b[0;36m1\u001b[0m\u001b[0;34m]\u001b[0m \u001b[0;34m=\u001b[0m \u001b[0;36m3\u001b[0m\u001b[0;34m\u001b[0m\u001b[0;34m\u001b[0m\u001b[0m\n\u001b[0m\u001b[1;32m     17\u001b[0m \u001b[0mmy_tuple\u001b[0m\u001b[0;34m\u001b[0m\u001b[0;34m\u001b[0m\u001b[0m\n",
      "\u001b[0;31mTypeError\u001b[0m: 'tuple' object does not support item assignment"
     ]
    }
   ],
   "source": [
    "#########\n",
    "##LISTS\n",
    "#########\n",
    "\n",
    "my_list = [1, 2, 3]\n",
    "\n",
    "my_tuple = (1,2,3)\n",
    "\n",
    "#Alterar o conteúdo de uma list\n",
    "\n",
    "my_list[0] = 3\n",
    "my_list\n",
    "\n",
    "#Será possível alterar o conteúdo de um tuple?\n",
    "\n",
    "my_tuple[1] = 3\n",
    "my_tuple"
   ]
  },
  {
   "source": [
    "Como vemos, não é possível fazer atribuição em tuples uma vez que os tuples são imutáveis, isto é, o seu conteúdo não pode ser alterado.\n",
    "Mas então para quê usar um tuple se não podemos alterar o seu conteúdo? Qual o interesse?\n",
    "\n",
    "Em aplicações onde uma certa variável tem de preservar um certo valor constante ao longo do tempo, torna-se vantajosa a utilização de tuples"
   ],
   "cell_type": "markdown",
   "metadata": {}
  },
  {
   "source": [
    "**Operations with lists and tuples**"
   ],
   "cell_type": "markdown",
   "metadata": {}
  },
  {
   "cell_type": "code",
   "execution_count": 38,
   "metadata": {},
   "outputs": [
    {
     "output_type": "execute_result",
     "data": {
      "text/plain": [
       "4"
      ]
     },
     "metadata": {},
     "execution_count": 38
    }
   ],
   "source": [
    "#Definir uma list e um tuple\n",
    "\n",
    "my_list = [1, 2, 3, 4]\n",
    "my_tuple = (1, 2, 3, 4)\n",
    "\n",
    "#Concatenate\n",
    "\n",
    "join_list = [5, 6]\n",
    "\n",
    "#my_list + join_list\n",
    "\n",
    "#Slice\n",
    "\n",
    "my_list[-3]\n",
    "my_tuple[-1]\n",
    "\n",
    "#Length\n",
    "\n",
    "len(my_list)"
   ]
  },
  {
   "cell_type": "code",
   "execution_count": 55,
   "metadata": {},
   "outputs": [
    {
     "output_type": "execute_result",
     "data": {
      "text/plain": [
       "['January', 2021, '2020']"
      ]
     },
     "metadata": {},
     "execution_count": 55
    }
   ],
   "source": [
    "holiday = [\"January\", \"2020\"]\n",
    "\n",
    "#Apagar um elemento de uma list\n",
    "#del(holiday[1])\n",
    "#holiday\n",
    "\n",
    "#Inserir novos valores\n",
    "holiday.insert(1,2021)\n",
    "holiday"
   ]
  },
  {
   "source": [
    "**Funções básicas e a primeira função**\n",
    "\n",
    "Em Python, como em outras linguagens de programação, existem inúmeras funções nativas da linguagem. Mas o que é uma função? Uma função é um pedaço de código que apenas é executado quando chamado. Ou seja, quando definimos o seu nome, seguido de \"( )\" e os seus parâmetros, essa função é executada. \n",
    "\n",
    "Mas qual o intuito de usar funções?\n",
    "As funções permitem-nos organizar melhor o nosso código e torná-lo legível para outras pessoas, ao mesmo tempo que nos permite uma maior capacidade de debugging e troubleshooting."
   ],
   "cell_type": "markdown",
   "metadata": {}
  },
  {
   "cell_type": "code",
   "execution_count": 2,
   "metadata": {},
   "outputs": [
    {
     "output_type": "stream",
     "name": "stdout",
     "text": [
      "Este é o meu número:\n 1\n"
     ]
    }
   ],
   "source": [
    "#Definir uma função\n",
    "def my_function():\n",
    "\n",
    "    my_number = 1\n",
    "\n",
    "    #Imprime o valor da variável my_number\n",
    "    print(\"Este é o meu número:\\n\",my_number)\n",
    "\n",
    "if __name__ == \"__main__\":\n",
    "    my_function()"
   ]
  },
  {
   "source": [
    "**Lists**\n",
    "\n",
    "Lists são elementos que nos permitem armazenar informação em várias posições, num mesmo elemento de memória\n",
    "\n",
    "Vejamos um exemplo:\n",
    "\n",
    "list = [1,2,3,4]\n",
    "\n",
    "Trata-se de uma lista com 4 elementos, e com índices de 0 a 3. Porquê de 0 a 3? Em listas e arrays, a contagem dos índices inicia-se em zero."
   ],
   "cell_type": "markdown",
   "metadata": {}
  },
  {
   "cell_type": "code",
   "execution_count": 3,
   "metadata": {},
   "outputs": [
    {
     "output_type": "error",
     "ename": "ValueError",
     "evalue": "invalid literal for int() with base 10: ''",
     "traceback": [
      "\u001b[0;31m---------------------------------------------------------------------------\u001b[0m",
      "\u001b[0;31mValueError\u001b[0m                                Traceback (most recent call last)",
      "\u001b[0;32m<ipython-input-3-b7e7d82f3899>\u001b[0m in \u001b[0;36m<module>\u001b[0;34m\u001b[0m\n\u001b[1;32m     28\u001b[0m \u001b[0;34m\u001b[0m\u001b[0m\n\u001b[1;32m     29\u001b[0m \u001b[0;32mif\u001b[0m \u001b[0m__name__\u001b[0m \u001b[0;34m==\u001b[0m \u001b[0;34m\"__main__\"\u001b[0m\u001b[0;34m:\u001b[0m\u001b[0;34m\u001b[0m\u001b[0;34m\u001b[0m\u001b[0m\n\u001b[0;32m---> 30\u001b[0;31m     \u001b[0mmain_result\u001b[0m \u001b[0;34m=\u001b[0m \u001b[0mcalculator\u001b[0m\u001b[0;34m(\u001b[0m\u001b[0;34m)\u001b[0m\u001b[0;31m#Chama a função\u001b[0m\u001b[0;34m\u001b[0m\u001b[0;34m\u001b[0m\u001b[0m\n\u001b[0m\u001b[1;32m     31\u001b[0m     \u001b[0mprint\u001b[0m\u001b[0;34m(\u001b[0m\u001b[0;34m\"Este é o resultado:\\n\"\u001b[0m\u001b[0;34m,\u001b[0m\u001b[0mmain_result\u001b[0m\u001b[0;34m)\u001b[0m\u001b[0;34m\u001b[0m\u001b[0;34m\u001b[0m\u001b[0m\n",
      "\u001b[0;32m<ipython-input-3-b7e7d82f3899>\u001b[0m in \u001b[0;36mcalculator\u001b[0;34m()\u001b[0m\n\u001b[1;32m      7\u001b[0m \u001b[0;34m\u001b[0m\u001b[0m\n\u001b[1;32m      8\u001b[0m     \u001b[0;31m#Pedir ao utilizador um número\u001b[0m\u001b[0;34m\u001b[0m\u001b[0;34m\u001b[0m\u001b[0;34m\u001b[0m\u001b[0m\n\u001b[0;32m----> 9\u001b[0;31m     \u001b[0mnum1\u001b[0m \u001b[0;34m=\u001b[0m \u001b[0mint\u001b[0m\u001b[0;34m(\u001b[0m\u001b[0minput\u001b[0m\u001b[0;34m(\u001b[0m\u001b[0;34m\"Introduza o primeiro número por favor:\\n\"\u001b[0m\u001b[0;34m)\u001b[0m\u001b[0;34m)\u001b[0m\u001b[0;34m\u001b[0m\u001b[0;34m\u001b[0m\u001b[0m\n\u001b[0m\u001b[1;32m     10\u001b[0m     \u001b[0mnum2\u001b[0m \u001b[0;34m=\u001b[0m \u001b[0mint\u001b[0m\u001b[0;34m(\u001b[0m\u001b[0minput\u001b[0m\u001b[0;34m(\u001b[0m\u001b[0;34m\"Introduza o segundo número por favor:\\n\"\u001b[0m\u001b[0;34m)\u001b[0m\u001b[0;34m)\u001b[0m\u001b[0;34m\u001b[0m\u001b[0;34m\u001b[0m\u001b[0m\n\u001b[1;32m     11\u001b[0m     \u001b[0moperation\u001b[0m \u001b[0;34m=\u001b[0m \u001b[0minput\u001b[0m\u001b[0;34m(\u001b[0m\u001b[0;34m\"Introduza a operação:\\n\"\u001b[0m\u001b[0;34m)\u001b[0m\u001b[0;34m\u001b[0m\u001b[0;34m\u001b[0m\u001b[0m\n",
      "\u001b[0;31mValueError\u001b[0m: invalid literal for int() with base 10: ''"
     ]
    }
   ],
   "source": [
    "#Função calculadora\n",
    "\n",
    "#Importa a biblioteca math para funções matemáticas\n",
    "import math\n",
    "\n",
    "def calculator():\n",
    "    \n",
    "    #Pedir ao utilizador um número\n",
    "    num1 = int(input(\"Introduza o primeiro número por favor:\\n\"))\n",
    "    num2 = int(input(\"Introduza o segundo número por favor:\\n\"))\n",
    "    operation = input(\"Introduza a operação:\\n\")\n",
    "\n",
    "    #Garantir que o utilizador introduz um número\n",
    "    while(math.isnan(num1) or math.isnan(num1)):\n",
    "        print(\"ERROR\")\n",
    "\n",
    "    #Verificar a operação\n",
    "    if(operation == 'x' or operation == '*'):\n",
    "        result = num1*num2\n",
    "    if(operation == '+'):\n",
    "        result = num1 + num2\n",
    "    if(operation == '-'):\n",
    "        result = num1 - num2\n",
    "    if(operation == '/'):\n",
    "        result = num1/num2\n",
    "    \n",
    "    return result#Retornar o resultado\n",
    "\n",
    "if __name__ == \"__main__\":\n",
    "    main_result = calculator()#Chama a função\n",
    "    print(\"Este é o resultado:\\n\",main_result)"
   ]
  },
  {
   "cell_type": "code",
   "execution_count": null,
   "metadata": {},
   "outputs": [],
   "source": []
  }
 ]
}